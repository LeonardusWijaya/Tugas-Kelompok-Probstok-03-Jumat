{
 "cells": [
  {
   "cell_type": "code",
   "execution_count": 14,
   "metadata": {},
   "outputs": [],
   "source": [
    "import re\n",
    "import matplotlib.pyplot as plt\n",
    "import numpy as np\n",
    "\n",
    "def extract_frequencies(filename):\n",
    "    d = dict()\n",
    "    with open(filename, \"r\") as f:\n",
    "        for line in f:\n",
    "            line = line.lower().rstrip().split(' ')\n",
    "            for word in line:\n",
    "                word = re.sub(r'\\W+', '', word)\n",
    "                if word:\n",
    "                    d[word] = d.get(word, 0) + 1\n",
    "    return d\n",
    "\n",
    "def dump(dic, filename):\n",
    "    with open(filename, \"w\") as f:\n",
    "        for k, v in dic.items():\n",
    "            f.write(\"{},{}\\n\".format(k, v))\n",
    "\n",
    "def build_histogram(filename, outputfilename=None, limit=20):\n",
    "    # open file and extract data\n",
    "    data = []\n",
    "    with open(filename, \"r\") as f:\n",
    "        for i, line in enumerate(f):\n",
    "            line = line.lower().rstrip().split(',')\n",
    "            data.append((int(line[1]), line[0]))\n",
    "    data.sort(key=lambda d: d[0], reverse=True)\n",
    "\n",
    "    # process data\n",
    "    data = data[:limit]\n",
    "    words = []\n",
    "    freq = []\n",
    "    for d in data:\n",
    "        words.append(d[1])\n",
    "        freq.append(d[0])\n",
    "\n",
    "    # print top 'limit' most frequent words\n",
    "    i = 1\n",
    "    for data in zip(words, freq):\n",
    "        print(\"No.{}\\t\\\"{}\\\" : {}\".format(i, data[0], data[1]))\n",
    "        i += 1\n",
    "        \n",
    "    # plot the data\n",
    "    y_pos = np.arange(len(words))\n",
    "    plt.bar(y_pos, freq, align='center', alpha=0.5)\n",
    "    plt.xticks(y_pos, words)\n",
    "    plt.ylabel('Occurence')\n",
    "    plt.title('Word Frequency in {}'.format(filename))\n",
    "    if outputfilename:\n",
    "        plt.savefig(outputfilename+'.png')\n",
    "    plt.show()"
   ]
  },
  {
   "cell_type": "code",
   "execution_count": 26,
   "metadata": {},
   "outputs": [
    {
     "name": "stdout",
     "output_type": "stream",
     "text": [
      "No.1\t\"the\" : 5798\n",
      "No.2\t\"and\" : 3070\n",
      "No.3\t\"i\" : 2994\n",
      "No.4\t\"of\" : 2776\n",
      "No.5\t\"to\" : 2761\n",
      "No.6\t\"a\" : 2681\n",
      "No.7\t\"in\" : 1815\n",
      "No.8\t\"that\" : 1750\n",
      "No.9\t\"it\" : 1710\n",
      "No.10\t\"you\" : 1543\n"
     ]
    },
    {
     "data": {
      "image/png": "[encoded data removed]",
      "text/plain": [
       "<Figure size 432x288 with 1 Axes>"
      ]
     },
     "metadata": {
      "needs_background": "light"
     },
     "output_type": "display_data"
    }
   ],
   "source": [
    ">>> frequencies = extract_frequencies(\"C:\\sherlock-holmes.txt\")\n",
    ">>> dump(frequencies, \"frequencies.csv\")\n",
    ">>> build_histogram(\"frequencies.csv\", \"frequencies\", 10)"
   ]
  },
  {
   "cell_type": "code",
   "execution_count": null,
   "metadata": {},
   "outputs": [],
   "source": []
  },
  {
   "cell_type": "code",
   "execution_count": null,
   "metadata": {},
   "outputs": [],
   "source": []
  }
 ],
 "metadata": {
  "kernelspec": {
   "display_name": "Python 3",
   "language": "python",
   "name": "python3"
  },
  "language_info": {
   "codemirror_mode": {
    "name": "ipython",
    "version": 3
   },
   "file_extension": ".py",
   "mimetype": "text/x-python",
   "name": "python",
   "nbconvert_exporter": "python",
   "pygments_lexer": "ipython3",
   "version": "3.7.3"
  }
 },
 "nbformat": 4,
 "nbformat_minor": 2
}
